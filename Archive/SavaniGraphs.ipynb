{
 "cells": [
  {
   "cell_type": "markdown",
   "metadata": {},
   "source": [
    "# Set Membership"
   ]
  },
  {
   "cell_type": "markdown",
   "metadata": {},
   "source": [
    "The cell below defines two **abstract classes**: the first represents a set and basic insert/search operations on it. You will need to impement this API four times, to implement (1) sequential search, (2) binary search tree, (3) balanced search tree, and (4) bloom filter. The second defines the synthetic data generator you will need to implement as part of your experimental framework. <br><br>**Do NOT modify the next cell** - use the dedicated cells further below for your implementation instead. <br>"
   ]
  },
  {
   "cell_type": "code",
   "execution_count": 3,
   "metadata": {},
   "outputs": [],
   "source": [
    "# DO NOT MODIFY THIS CELL\n",
    "\n",
    "from abc import ABC, abstractmethod  \n",
    "\n",
    "# abstract class to represent a set and its insert/search operations\n",
    "class AbstractSet(ABC):\n",
    "    \n",
    "    # constructor\n",
    "    @abstractmethod\n",
    "    def __init__(self):\n",
    "        pass           \n",
    "        \n",
    "    # inserts \"element\" in the set\n",
    "    # returns \"True\" after successful insertion, \"False\" if the element is already in the set\n",
    "    # element : str\n",
    "    # inserted : bool\n",
    "    @abstractmethod\n",
    "    def insertElement(self, element):     \n",
    "        inserted = False\n",
    "        return inserted   \n",
    "    \n",
    "    # checks whether \"element\" is in the set\n",
    "    # returns \"True\" if it is, \"False\" otherwise\n",
    "    # element : str\n",
    "    # found : bool\n",
    "    @abstractmethod\n",
    "    def searchElement(self, element):\n",
    "        found = False\n",
    "        return found    \n",
    "    \n",
    "    \n",
    "    \n",
    "# abstract class to represent a synthetic data generator\n",
    "class AbstractTestDataGenerator(ABC):\n",
    "    \n",
    "    # constructor\n",
    "    @abstractmethod\n",
    "    def __init__(self):\n",
    "        pass           \n",
    "        \n",
    "    # creates and returns a list of length \"size\" of strings\n",
    "    # size : int\n",
    "    # data : list<str>\n",
    "    @abstractmethod\n",
    "    def generateData(self, size):     \n",
    "        data = [\"\"]*size\n",
    "        return data   \n"
   ]
  },
  {
   "cell_type": "markdown",
   "metadata": {},
   "source": [
    "Use the cell below to define any auxiliary data structure and python function you may need. Leave the implementation of the main API to the next code cells instead."
   ]
  },
  {
   "cell_type": "code",
   "execution_count": 4,
   "metadata": {},
   "outputs": [],
   "source": [
    "# ADD AUXILIARY DATA STRUCTURE DEFINITIONS AND HELPER CODE HERE\n",
    "\n",
    "class Node:\n",
    "    def __init__(self, value):\n",
    "        self.value = value\n",
    "        self.left = None\n",
    "        self.right = None\n",
    "\n",
    "class RB_Node(Node):\n",
    "    RED = True\n",
    "    BLACK = False\n",
    "\n",
    "    def __init__(self, value, colour):\n",
    "        super().__init__(value)\n",
    "        self.colour = colour"
   ]
  },
  {
   "cell_type": "markdown",
   "metadata": {},
   "source": [
    "Use the cell below to implement the requested API by means of **sequential search**."
   ]
  },
  {
   "cell_type": "code",
   "execution_count": 5,
   "metadata": {},
   "outputs": [],
   "source": [
    "class SequentialSearchSet(AbstractSet):\n",
    "    def __init__(self):\n",
    "        self.set = []      \n",
    "\n",
    "    def insertElement(self, element):\n",
    "        inserted = False\n",
    "        \n",
    "#         self.set.append(element)\n",
    "        \n",
    "        if element not in self.set:\n",
    "           self.set.append(element)\n",
    "           inserted = True\n",
    "        return inserted\n",
    "    \n",
    "    def searchElement(self, element):     \n",
    "        found = False\n",
    "        for member in self.set:\n",
    "            if member == element:\n",
    "                found = True\n",
    "                break\n",
    "        return found"
   ]
  },
  {
   "cell_type": "markdown",
   "metadata": {},
   "source": [
    "Use the cell below to implement the requested API by means of **binary search tree**."
   ]
  },
  {
   "cell_type": "code",
   "execution_count": 6,
   "metadata": {},
   "outputs": [],
   "source": [
    "class BinarySearchTreeSet(AbstractSet):\n",
    "    def __init__(self):\n",
    "        self.root = None\n",
    "    \n",
    "    def insertElement(self, element):\n",
    "        inserted = False\n",
    "        if not self.root:\n",
    "            self.root = Node(element)\n",
    "            inserted = True\n",
    "        else:\n",
    "            current = self.root\n",
    "            while current:\n",
    "                if current.value == element:\n",
    "                    inserted = False\n",
    "                    break\n",
    "                elif current.value > element:\n",
    "                    if not current.left:\n",
    "                        current.left = Node(element)\n",
    "                        inserted = True\n",
    "                        break\n",
    "                    current = current.left\n",
    "                elif current.value < element:\n",
    "                    if not current.right:\n",
    "                        current.right = Node(element)\n",
    "                        inserted = True\n",
    "                        break\n",
    "                    current = current.right\n",
    "        return inserted\n",
    "\n",
    "    def searchElement(self, element):     \n",
    "        found = False\n",
    "        current = self.root\n",
    "        while current:\n",
    "            if current.value == element:\n",
    "                found = True\n",
    "                break\n",
    "            elif current.value > element:\n",
    "                current = current.left\n",
    "            elif current.value < element:\n",
    "                current = current.right\n",
    "        return found"
   ]
  },
  {
   "cell_type": "markdown",
   "metadata": {},
   "source": [
    "Use the cell below to implement the requested API by means of **balanced search tree**."
   ]
  },
  {
   "cell_type": "code",
   "execution_count": 7,
   "metadata": {},
   "outputs": [],
   "source": [
    "class BalancedSearchTreeSet(AbstractSet):\n",
    "    def __init__(self):\n",
    "        self.root = None\n",
    "\n",
    "    @staticmethod\n",
    "    def is_red(node):\n",
    "        if node is None:\n",
    "            return False\n",
    "        return node.colour == RB_Node.RED\n",
    "\n",
    "    @staticmethod\n",
    "    def rotate_left(node):\n",
    "        x = node.right\n",
    "        node.right = x.left\n",
    "        x.left = node\n",
    "        x.colour = node.colour\n",
    "        node.colour = RB_Node.RED\n",
    "        return x\n",
    "\n",
    "    @staticmethod\n",
    "    def rotate_right(node):\n",
    "        x = node.left\n",
    "        node.left = x.right\n",
    "        x.right = node\n",
    "        x.colour = node.colour\n",
    "        node.colour = RB_Node.RED\n",
    "        return x\n",
    "\n",
    "    @staticmethod\n",
    "    def flip_colours(node):\n",
    "        node.colour = RB_Node.RED\n",
    "        node.left.colour = RB_Node.BLACK\n",
    "        node.right.colour = RB_Node.BLACK\n",
    "    \n",
    "    def insertElement(self, element):\n",
    "        self.root, inserted = self._insertElement(self.root, element)\n",
    "        self.root.colour = RB_Node.BLACK\n",
    "        return inserted\n",
    "    \n",
    "    def _insertElement(self, node, element):\n",
    "        if node is None:\n",
    "            return RB_Node(element, RB_Node.RED), True\n",
    "\n",
    "        if element < node.value:\n",
    "            node.left, inserted = self._insertElement(node.left, element)\n",
    "        elif element > node.value:\n",
    "            node.right, inserted = self._insertElement(node.right, element)\n",
    "        else:\n",
    "            return node, False\n",
    "        \n",
    "        if self.is_red(node.right) and not self.is_red(node.left):\n",
    "            node = self.rotate_left(node)\n",
    "        if self.is_red(node.left) and self.is_red(node.left.left):\n",
    "            node = self.rotate_right(node)\n",
    "        if self.is_red(node.left) and self.is_red(node.right):\n",
    "            self.flip_colours(node)\n",
    "        return node, inserted    \n",
    "\n",
    "    def searchElement(self, element):     \n",
    "        return self._searchElement(self.root, element) == element\n",
    "\n",
    "    def _searchElement(self, node, element):\n",
    "        if node is None:\n",
    "            return False\n",
    "\n",
    "        if element < node.value:\n",
    "            return self._searchElement(node.left, element)\n",
    "        elif element > node.value:\n",
    "            return self._searchElement(node.right, element)\n",
    "        else:\n",
    "            return node.value   "
   ]
  },
  {
   "cell_type": "markdown",
   "metadata": {},
   "source": [
    "Use the cell below to implement the requested API by means of **bloom filter**."
   ]
  },
  {
   "cell_type": "code",
   "execution_count": 8,
   "metadata": {},
   "outputs": [],
   "source": [
    "from bitarray import bitarray\n",
    "\n",
    "EXPECTED_NUM_INSERTIONS = 500000\n",
    "BITARRAY_SIZE = EXPECTED_NUM_INSERTIONS * 50\n",
    "LN2 = 0.69314718056\n",
    "\n",
    "class BloomFilterSet(AbstractSet):\n",
    "    def __init__(self, size, num_hashes=3):\n",
    "        self.size = size\n",
    "        self.num_hashes = num_hashes\n",
    "        self.bit_array = bitarray(size)\n",
    "        self.bit_array.setall(0)\n",
    "\n",
    "    def _hash(self, element):\n",
    "        hash_values = []\n",
    "        for i in range(self.num_hashes):\n",
    "            hash_value = hash(f'{element}{i}')\n",
    "            hash_values.append(hash_value % self.size)\n",
    "        return hash_values\n",
    "    \n",
    "    @staticmethod\n",
    "    def optimise_k(m, n):\n",
    "        return 1 + int(LN2 * (m / n))\n",
    "        \n",
    "    def insertElement(self, element):\n",
    "        if self.searchElement(element) is False:\n",
    "            hash_values = self._hash(element)\n",
    "            for value in hash_values:\n",
    "                self.bit_array[value] = 1\n",
    "            return True\n",
    "        else:\n",
    "            return False\n",
    "    \n",
    "    def searchElement(self, element):     \n",
    "        hash_values = self._hash(element)\n",
    "        for value in hash_values:\n",
    "            if not self.bit_array[value]:\n",
    "                return False\n",
    "        return True"
   ]
  },
  {
   "cell_type": "markdown",
   "metadata": {},
   "source": [
    "Use the cell below to implement the **synthetic data generator** as part of your experimental framework."
   ]
  },
  {
   "cell_type": "code",
   "execution_count": 9,
   "metadata": {},
   "outputs": [],
   "source": [
    "import string\n",
    "import random\n",
    "\n",
    "class TestDataGenerator(AbstractTestDataGenerator):\n",
    "    NUM_WORDS = 50000\n",
    "    MIN_LENGTH = 1\n",
    "    AV_LOW_LENGTH = 2\n",
    "    AV_HIGH_LENGTH = 6\n",
    "    MAX_LENGTH = 12\n",
    "    CONSONANTS = 'bcdfghjklmnpqrstvwxyz'\n",
    "    VOWELS = 'aeiou'\n",
    "    \n",
    "    def __init__(self):\n",
    "        pass\n",
    "\n",
    "    def generate_word(self, scarcity=0.05):\n",
    "        limit = int(1 / scarcity)\n",
    "        roulette = random.randint(0, int(1 / scarcity))\n",
    "        if roulette == limit:\n",
    "            length = random.randint(self.AV_LOW_LENGTH, self.AV_HIGH_LENGTH)\n",
    "        else:\n",
    "            length = random.randint(self.MIN_LENGTH, self.MAX_LENGTH)\n",
    "        word = ''\n",
    "        for i in range(length):\n",
    "            if i % 2 == 1 or length == 1:\n",
    "                word += random.choice(self.VOWELS)\n",
    "            else:\n",
    "                word += random.choice(self.CONSONANTS)\n",
    "        return word      \n",
    "        \n",
    "    def generateData(self, size):     \n",
    "        # ADD YOUR CODE HERE\n",
    "        data = []\n",
    "        for i in range(size):\n",
    "            data.append(self.generate_word())\n",
    "\n",
    "        return data   \n",
    "\n"
   ]
  },
  {
   "cell_type": "markdown",
   "metadata": {},
   "source": [
    "Use the cells below for the python code needed to **fully evaluate your implementations**, first on real data and subsequently on synthetic data (i.e., read data from test files / generate synthetic one, instantiate each of the 4 set implementations in turn, then thorouhgly experiment with insert/search operations and measure their performance)."
   ]
  },
  {
   "cell_type": "code",
   "execution_count": null,
   "metadata": {},
   "outputs": [],
   "source": [
    "import timeit\n",
    "import random\n",
    "import string\n",
    "\n",
    "def txt_to_list(file_path):\n",
    "    with open(file_path, 'r') as f:\n",
    "        content = f.read()\n",
    "        if file_path == \"test-search.txt\":\n",
    "            return content.split(\"\\n\")\n",
    "        else:\n",
    "            return content.split()\n",
    "\n",
    "def average_search_time(search_from_file, search_words_file, search_function, operation_repeats=50, search_intervals=5):\n",
    "    # words_to_search_from = txt_to_list(search_from_file)\n",
    "    words_to_search_from = [(''.join(random.choice(string.ascii_lowercase) for i in range(10))) for _ in range(100000)]\n",
    "    search_words = txt_to_list(search_words_file)\n",
    "\n",
    "    insert_time = {}\n",
    "    mean_search_time = {}\n",
    "    list_len = []\n",
    "    intervals = len(words_to_search_from)//search_intervals\n",
    "\n",
    "    for func_name, search_func in search_funcs.items():\n",
    "        print(func_name)\n",
    "        insert_time[func_name] = {}\n",
    "        mean_search_time[func_name] = {}\n",
    "#         for each function, slowly increase list size while timing insert and search times\n",
    "        for i, word in enumerate(words_to_search_from):\n",
    "            insert_time[func_name][i] = timeit.timeit(lambda: search_func.insertElement(word), number=operation_repeats)\n",
    "#             if len(search_func.set) % 1000 == 0:\n",
    "#                 print(len(search_func.set), timeit.timeit(lambda: search_func.insertElement(word), number=operation_repeats))\n",
    "            if i % intervals == 0:\n",
    "                search_time = [timeit.timeit(lambda: search_func.searchElement(word), number=operation_repeats) for word in search_words]\n",
    "                mean_search_time[func_name][i] = sum(search_time)/(operation_repeats*len(search_time))\n",
    "\n",
    "#         print(f\"Insert Time - {insert_time}\")\n",
    "        print(f\"Mean Search Time - {mean_search_time}\")\n",
    "    return insert_time, mean_search_time\n",
    "\n",
    "search_funcs = {\"BST\":BinarySearchTreeSet(), \"LLRBT\":BalancedSearchTreeSet(), \"BF\":BloomFilterSet(BITARRAY_SIZE)}\n",
    "# search_funcs = {\"LS\":SequentialSearchSet(), \"BST\":BinarySearchTreeSet(), \"LLRBT\":BalancedSearchTreeSet(), \"BF\":BloomFilterSet(BITARRAY_SIZE)}\n",
    "# search_funcs = {\"BST\":BinarySearchTreeSet()}\n",
    "insert_time, mean_search_time = average_search_time(\"test1-mobydick.txt\", \"test-search.txt\", search_funcs, 1, 100)\n"
   ]
  },
  {
   "cell_type": "code",
   "execution_count": 10,
   "metadata": {},
   "outputs": [],
   "source": [
    "# import timeit\n",
    "# import random\n",
    "# import string\n",
    "\n",
    "# def txt_to_list(file_path):\n",
    "#     with open(file_path, 'r') as f:\n",
    "#         content = f.read()\n",
    "#         if file_path == \"test-search.txt\":\n",
    "#             return content.split(\"\\n\")\n",
    "#         else:\n",
    "#             return content.split()\n",
    "\n",
    "# def average_search_time(search_from_file, search_words_file, search_function, operation_repeats=50, search_intervals=5):\n",
    "#     # words_to_search_from = txt_to_list(search_from_file)\n",
    "#     words_to_search_from = [(''.join(random.choice(string.ascii_lowercase) for i in range(10))) for _ in range(100000)]\n",
    "#     search_words = txt_to_list(search_words_file)\n"
   ]
  },
  {
   "cell_type": "code",
   "execution_count": null,
   "metadata": {},
   "outputs": [],
   "source": [
    "\n",
    "# def average_search_time_synthetic(search_words_file, operation_repeats=50, search_intervals=5):\n",
    "#     words_to_search_from = TestDataGenerator().generateData(100000)\n",
    "#     search_words = txt_to_list(search_words_file)\n",
    "\n",
    "#     insert_time_synthetic = {}\n",
    "#     mean_search_time_synthetic = {}\n",
    "#     intervals = len(words_to_search_from)//search_intervals\n",
    "\n",
    "#     for func_name, search_func in search_funcs_synthetic.items():\n",
    "#         print(func_name)\n",
    "#         insert_time_synthetic[func_name] = {}\n",
    "#         mean_search_time_synthetic[func_name] = {}\n",
    "# #         for each function, slowly increase list size while timing insert and search times\n",
    "#         for i, word in enumerate(words_to_search_from):\n",
    "#             insert_time_synthetic[func_name][i] = timeit.timeit(lambda: search_func.insertElement(word), number=operation_repeats)\n",
    "#             if i % intervals == 0:\n",
    "#                 search_time = [timeit.timeit(lambda: search_func.searchElement(word), number=operation_repeats) for word in search_words]\n",
    "#                 mean_search_time_synthetic[func_name][i] = sum(search_time)/(operation_repeats*len(search_time))\n",
    "\n",
    "#         print(f\"Insert Time - {insert_time_synthetic}\")\n",
    "#         print(f\"Mean Search Time - {mean_search_time_synthetic}\")\n",
    "#     return insert_time_synthetic, mean_search_time_synthetic\n",
    "\n",
    "# # search_funcs_synthetic = {\"BST\":BinarySearchTreeSet(), \"LLRBT\":BalancedSearchTreeSet(), \"BF\":BloomFilterSet(BITARRAY_SIZE)}\n",
    "# # search_funcs = {\"LS\":SequentialSearchSet(), \"BST\":BinarySearchTreeSet(), \"LLRBT\":BalancedSearchTreeSet(), \"BF\":BloomFilterSet(BITARRAY_SIZE)}\n",
    "# search_funcs_synthetic = {\"LS\":SequentialSearchSet()}\n",
    "# insert_time_synthetic, mean_search_time_synthetic = average_search_time_synthetic(\"test-search.txt\", 1, 100)\n"
   ]
  },
  {
   "cell_type": "code",
   "execution_count": 81,
   "metadata": {},
   "outputs": [],
   "source": [
    "import pandas as pd\n",
    "import seaborn as sns\n",
    "import matplotlib.pyplot as plt\n",
    "import numpy as np"
   ]
  },
  {
   "cell_type": "code",
   "execution_count": 82,
   "metadata": {},
   "outputs": [],
   "source": [
    "# Dictionary -> Pandas Dataframe\n",
    "# pd_insert_time = pd.DataFrame.from_dict(insert_time)\n",
    "# pd_search_time = pd.DataFrame.from_dict(mean_search_time)\n",
    "# pd_insert_time_synthetic = pd.DataFrame.from_dict(insert_time_synthetic)\n",
    "# pd_search_time_synthetic = pd.DataFrame.from_dict(mean_search_time_synthetic)"
   ]
  },
  {
   "cell_type": "code",
   "execution_count": 83,
   "metadata": {},
   "outputs": [],
   "source": [
    "# pd_insert_time_averaged = pd_insert_time.groupby(np.arange(len(pd_insert_time))//100).median()\n",
    "# pd_insert_time_synthetic_averaged = pd_insert_time_synthetic.groupby(np.arange(len(pd_insert_time_synthetic))//100).median()"
   ]
  },
  {
   "cell_type": "code",
   "execution_count": 93,
   "metadata": {},
   "outputs": [],
   "source": [
    "pd_insert_time_averaged = pd.read_csv(\"/Users/savanisawaikar/Algorithms/Coursework/SetMembershipProblem/experimentalGraphs/SortedVsUnsortedDataBST/InsertSortedBST.csv\")\n",
    "pd_search_time = pd.read_csv(\"/Users/savanisawaikar/Algorithms/Coursework/SetMembershipProblem/experimentalGraphs/SortedVsUnsortedDataBST/SearchSortedBST.csv\")"
   ]
  },
  {
   "cell_type": "code",
   "execution_count": 94,
   "metadata": {},
   "outputs": [],
   "source": [
    "pd_insert_time_simplified = pd_insert_time_averaged.groupby(np.arange(len(pd_insert_time_averaged))//200).median()"
   ]
  },
  {
   "cell_type": "code",
   "execution_count": 94,
   "metadata": {},
   "outputs": [],
   "source": []
  },
  {
   "cell_type": "code",
   "execution_count": 95,
   "metadata": {},
   "outputs": [],
   "source": [
    "from scipy.optimize import curve_fit\n",
    "\n",
    "def find_log_constants(data, algo):\n",
    "    GUESS = {'BST':[1.08752491e+00, 6.12491676e-01, 2.24788086e-06, 8.79140089e-06], 'LLRBT':[2.14222045e+01, 2.85844032e+01, 9.93835764e-06, 1.12115959e-06]}\n",
    "    def func(x, a, b, c, d):\n",
    "        return np.log(a*x+b)*c + d\n",
    "\n",
    "    x = data.index\n",
    "    y = data\n",
    "\n",
    "    optimal_log, _ = curve_fit(func, x, y, p0=GUESS[algo], maxfev=5000)\n",
    "    return optimal_log\n",
    "\n",
    "def find_linear_constants(data):\n",
    "    def func(x, a, b):\n",
    "        return a*x + b\n",
    "    \n",
    "    x = data.index\n",
    "    y = data\n",
    "    \n",
    "    optimal_line, _ = curve_fit(func, x, y, maxfev=5000)\n",
    "    return optimal_line\n",
    "    "
   ]
  },
  {
   "cell_type": "code",
   "execution_count": 104,
   "metadata": {},
   "outputs": [
    {
     "name": "stderr",
     "output_type": "stream",
     "text": [
      "/Library/Frameworks/Python.framework/Versions/3.10/lib/python3.10/site-packages/pandas/core/indexes/base.py:969: RuntimeWarning: invalid value encountered in log\n",
      "  result = getattr(ufunc, method)(*new_inputs, **kwargs)\n",
      "/Library/Frameworks/Python.framework/Versions/3.10/lib/python3.10/site-packages/pandas/core/indexes/base.py:969: RuntimeWarning: invalid value encountered in log\n",
      "  result = getattr(ufunc, method)(*new_inputs, **kwargs)\n",
      "/Library/Frameworks/Python.framework/Versions/3.10/lib/python3.10/site-packages/pandas/core/indexes/base.py:969: RuntimeWarning: invalid value encountered in log\n",
      "  result = getattr(ufunc, method)(*new_inputs, **kwargs)\n",
      "/Library/Frameworks/Python.framework/Versions/3.10/lib/python3.10/site-packages/pandas/core/indexes/base.py:969: RuntimeWarning: invalid value encountered in log\n",
      "  result = getattr(ufunc, method)(*new_inputs, **kwargs)\n",
      "/Library/Frameworks/Python.framework/Versions/3.10/lib/python3.10/site-packages/pandas/core/indexes/base.py:969: RuntimeWarning: invalid value encountered in log\n",
      "  result = getattr(ufunc, method)(*new_inputs, **kwargs)\n",
      "/Library/Frameworks/Python.framework/Versions/3.10/lib/python3.10/site-packages/pandas/core/indexes/base.py:969: RuntimeWarning: invalid value encountered in log\n",
      "  result = getattr(ufunc, method)(*new_inputs, **kwargs)\n",
      "/Library/Frameworks/Python.framework/Versions/3.10/lib/python3.10/site-packages/pandas/core/indexes/base.py:969: RuntimeWarning: invalid value encountered in log\n",
      "  result = getattr(ufunc, method)(*new_inputs, **kwargs)\n",
      "/Library/Frameworks/Python.framework/Versions/3.10/lib/python3.10/site-packages/pandas/core/indexes/base.py:969: RuntimeWarning: invalid value encountered in log\n",
      "  result = getattr(ufunc, method)(*new_inputs, **kwargs)\n",
      "/Library/Frameworks/Python.framework/Versions/3.10/lib/python3.10/site-packages/pandas/core/indexes/base.py:969: RuntimeWarning: invalid value encountered in log\n",
      "  result = getattr(ufunc, method)(*new_inputs, **kwargs)\n"
     ]
    },
    {
     "data": {
      "text/plain": "<Figure size 1000x500 with 1 Axes>",
      "image/png": "[encoded data removed]"
     },
     "metadata": {},
     "output_type": "display_data"
    }
   ],
   "source": [
    "import random\n",
    "ALGO_COLORS = {'LS':'blue', 'BST':'green', 'LLRBT':'red', 'BF':'pink'}\n",
    "\n",
    "def insert_graph_fit(data, algo_list):\n",
    "    x = data.index\n",
    "    y = data[algo_list]\n",
    "\n",
    "    # Create the scatter plot using seaborn\n",
    "    insert_graph = sns.FacetGrid(data=data, height=5, aspect=2)\n",
    "    #insert_graph.set(xlim=(0, len(x)), title=f'Time Taken to Insert as Inserted words Increase', xlabel='Number of Elements Already Inputted (Binned Median)', ylabel='Execution Time / s')\n",
    "\n",
    "    #insert_graph.set(xlim=(0, len(x)), title=f'Time Taken to Search Words in Synthetic Data', xlabel='Number of Words Searched So Far', ylabel='Time Elapsed / s')\n",
    "\n",
    "    #insert_graph.set(ylim=(0,0.002),xlim=(0, len(x)), title=f'Time Taken to Insert as Inserted words Increase for Sorted Data', xlabel='Number of Words Already Input', ylabel='Time Elapsed / s')\n",
    "\n",
    "    insert_graph.set(ylim=(0, 0.00125),xlim=(0, len(x)), title=f'Time Taken to Search Words for Sorted Data', xlabel='Number of Words Searched So Far', ylabel='Time Elapsed / s')\n",
    "\n",
    "    # Create the logarithmic function\n",
    "    for algo in algo_list:\n",
    "        insert_graph.map(plt.scatter, y=y[algo], x=x, marker=\"+\", color=ALGO_COLORS[algo])\n",
    "        \n",
    "        if algo in ['BST', 'LLRBT']:\n",
    "            a, b, c, d = find_log_constants(data[algo], algo)\n",
    "            x_plot = np.linspace(1, len(x))\n",
    "            y_plot = np.log(a*x_plot+b)*c + d\n",
    "        elif algo in ['LS', 'BF']:\n",
    "            a, b = find_linear_constants(data[algo])\n",
    "            x_plot = np.linspace(1, len(x))\n",
    "            y_plot = a*x_plot + b\n",
    "        else:\n",
    "            print('Dude u got the algo name wrong')\n",
    "        \n",
    "        plt.plot(x_plot, y_plot, label=algo, color=ALGO_COLORS[algo])\n",
    "        \n",
    "    plt.legend()\n",
    "\n",
    "    # Display the plot\n",
    "    plt.show()\n",
    "    \n",
    "insert_graph_fit(pd_insert_time_simplified, ['BST'])\n"
   ]
  },
  {
   "cell_type": "code",
   "execution_count": 105,
   "metadata": {},
   "outputs": [
    {
     "name": "stderr",
     "output_type": "stream",
     "text": [
      "/Library/Frameworks/Python.framework/Versions/3.10/lib/python3.10/site-packages/pandas/core/indexes/base.py:969: RuntimeWarning: invalid value encountered in log\n",
      "  result = getattr(ufunc, method)(*new_inputs, **kwargs)\n",
      "/Library/Frameworks/Python.framework/Versions/3.10/lib/python3.10/site-packages/pandas/core/indexes/base.py:969: RuntimeWarning: invalid value encountered in log\n",
      "  result = getattr(ufunc, method)(*new_inputs, **kwargs)\n",
      "/Library/Frameworks/Python.framework/Versions/3.10/lib/python3.10/site-packages/pandas/core/indexes/base.py:969: RuntimeWarning: invalid value encountered in log\n",
      "  result = getattr(ufunc, method)(*new_inputs, **kwargs)\n",
      "/Library/Frameworks/Python.framework/Versions/3.10/lib/python3.10/site-packages/pandas/core/indexes/base.py:969: RuntimeWarning: invalid value encountered in log\n",
      "  result = getattr(ufunc, method)(*new_inputs, **kwargs)\n",
      "/Library/Frameworks/Python.framework/Versions/3.10/lib/python3.10/site-packages/pandas/core/indexes/base.py:969: RuntimeWarning: invalid value encountered in log\n",
      "  result = getattr(ufunc, method)(*new_inputs, **kwargs)\n",
      "/Library/Frameworks/Python.framework/Versions/3.10/lib/python3.10/site-packages/pandas/core/indexes/base.py:969: RuntimeWarning: invalid value encountered in log\n",
      "  result = getattr(ufunc, method)(*new_inputs, **kwargs)\n",
      "/Library/Frameworks/Python.framework/Versions/3.10/lib/python3.10/site-packages/pandas/core/indexes/base.py:969: RuntimeWarning: invalid value encountered in log\n",
      "  result = getattr(ufunc, method)(*new_inputs, **kwargs)\n"
     ]
    },
    {
     "data": {
      "text/plain": "<Figure size 1000x500 with 1 Axes>",
      "image/png": "[encoded data removed]"
     },
     "metadata": {},
     "output_type": "display_data"
    }
   ],
   "source": [
    "insert_graph_fit(pd_search_time, ['BST'])"
   ]
  },
  {
   "cell_type": "code",
   "execution_count": null,
   "metadata": {},
   "outputs": [],
   "source": [
    "ALGO_COLORS = {'LS':'blue', 'BST':'green', 'LLRBT':'red', 'BF':'pink'}\n",
    "\n",
    "def search_graph_fit(data, algo_list):\n",
    "    x = data.index\n",
    "    y = data[algo_list]\n",
    "\n",
    "    # Create the scatter plot using seaborn\n",
    "    insert_graph = sns.FacetGrid(data=data, height=5, aspect=2)\n",
    "    insert_graph.set(title=f'Time Taken to Insert as Inserted words Increase', xlabel='Number of Elements Already Inputed (Binned Median)', ylabel='Execution Time / s')\n",
    "\n",
    "    # Create the logarithmic function\n",
    "    for algo in algo_list:\n",
    "        insert_graph.map(plt.scatter, y=y[algo], x=x, marker=\"+\", color=ALGO_COLORS[algo])\n",
    "        \n",
    "        if algo in ['BST', 'LLRBT']:\n",
    "            a, b, c, d = find_log_constants(data[algo], algo)\n",
    "            x_plot = np.linspace(1, len(x))\n",
    "            y_plot = np.log(a*x_plot+b)*c + d\n",
    "        elif algo in ['LS', 'BF']:\n",
    "            a, b = find_linear_constants(data[algo])\n",
    "            x_plot = np.linspace(1, len(x))\n",
    "            y_plot = a*x_plot + b\n",
    "        else:\n",
    "            print('Dude u got the algo name wrong')\n",
    "        \n",
    "        plt.plot(x_plot, y_plot, label=algo, color=ALGO_COLORS[algo])\n",
    "        \n",
    "    plt.legend()\n",
    "    \n",
    "    # Display the plot\n",
    "    plt.show()\n",
    "    \n",
    "log_graph_fit(pd_insert_time_simplified, ['BST', 'LLRBT','BF'])\n"
   ]
  },
  {
   "cell_type": "code",
   "execution_count": 33,
   "metadata": {},
   "outputs": [
    {
     "ename": "NameError",
     "evalue": "name 'pd_insert_time_averaged' is not defined",
     "output_type": "error",
     "traceback": [
      "\u001B[0;31m---------------------------------------------------------------------------\u001B[0m",
      "\u001B[0;31mNameError\u001B[0m                                 Traceback (most recent call last)",
      "Cell \u001B[0;32mIn[33], line 3\u001B[0m\n\u001B[1;32m      1\u001B[0m algo \u001B[38;5;241m=\u001B[39m \u001B[38;5;124m'\u001B[39m\u001B[38;5;124mBST\u001B[39m\u001B[38;5;124m'\u001B[39m\n\u001B[1;32m      2\u001B[0m upper_ylim \u001B[38;5;241m=\u001B[39m \u001B[38;5;241m0.00001\u001B[39m\n\u001B[0;32m----> 3\u001B[0m insert_graph \u001B[38;5;241m=\u001B[39m sns\u001B[38;5;241m.\u001B[39mlineplot(data\u001B[38;5;241m=\u001B[39m\u001B[43mpd_insert_time_averaged\u001B[49m)\n\u001B[1;32m      4\u001B[0m insert_graph\u001B[38;5;241m.\u001B[39mset(ylim \u001B[38;5;241m=\u001B[39m [\u001B[38;5;241m0\u001B[39m, upper_ylim], title\u001B[38;5;241m=\u001B[39m\u001B[38;5;124mf\u001B[39m\u001B[38;5;124m'\u001B[39m\u001B[38;5;124mTime Taken to Insert as Inserted words Increase (\u001B[39m\u001B[38;5;132;01m{\u001B[39;00malgo\u001B[38;5;132;01m}\u001B[39;00m\u001B[38;5;124m)\u001B[39m\u001B[38;5;124m'\u001B[39m, xlabel\u001B[38;5;241m=\u001B[39m\u001B[38;5;124m'\u001B[39m\u001B[38;5;124mNumber of Elements Already Inputed\u001B[39m\u001B[38;5;124m'\u001B[39m, ylabel\u001B[38;5;241m=\u001B[39m\u001B[38;5;124m'\u001B[39m\u001B[38;5;124mTime Taken to Insert 1 Extra Element\u001B[39m\u001B[38;5;124m'\u001B[39m)\n\u001B[1;32m      5\u001B[0m plt\u001B[38;5;241m.\u001B[39mshow()\n",
      "\u001B[0;31mNameError\u001B[0m: name 'pd_insert_time_averaged' is not defined"
     ]
    }
   ],
   "source": [
    "algo = 'BST'\n",
    "upper_ylim = 0.00001\n",
    "insert_graph = sns.lineplot(data=pd_insert_time_averaged)\n",
    "insert_graph.set(ylim = [0, upper_ylim], title=f'Time Taken to Insert as Inserted words Increase ({algo})', xlabel='Number of Elements Already Inputed', ylabel='Time Taken to Insert 1 Extra Element')\n",
    "plt.show()"
   ]
  },
  {
   "cell_type": "code",
   "execution_count": 35,
   "metadata": {},
   "outputs": [
    {
     "data": {
      "image/png": "[encoded data removed]",
      "text/plain": [
       "<Figure size 640x480 with 1 Axes>"
      ]
     },
     "metadata": {},
     "output_type": "display_data"
    }
   ],
   "source": [
    "algo = 'BST'\n",
    "upper_ylim = 0.0004\n",
    "insert_graph = sns.lineplot(data=pd_insert_time_synthetic_averaged)\n",
    "insert_graph.set(title=f'Time Taken to Insert as Inserted words Increase for Synthetic Data', xlabel='Number of Elements Already Inputed', ylabel='Time Increment After Single Element Insertion/s')\n",
    "x = {i for i in range (0, 100)}\n",
    "\n",
    "plt.show()"
   ]
  },
  {
   "cell_type": "code",
   "execution_count": null,
   "metadata": {},
   "outputs": [],
   "source": [
    "algo = 'BST'\n",
    "upper_ylim = 0.00002\n",
    "insert_graph = sns.lineplot(data=pd_insert_time_averaged)\n",
    "insert_graph.set(title=f'Time Taken to Insert as Inserted words Increase ({algo})', xlabel='Number of Elements Already Inputed', ylabel='Time Taken to Insert 1 Extra Element')\n",
    "plt.show()"
   ]
  },
  {
   "cell_type": "code",
   "execution_count": null,
   "metadata": {},
   "outputs": [],
   "source": [
    "insert_graph = sns.lineplot(data=pd_insert_time_averaged)\n",
    "insert_graph.set(ylim = [0, upper_ylim], title=f'Time Taken to Insert as Inserted words Increase ({algo})', xlabel='Number of Elements Already Inputed', ylabel='Time Taken to Insert 1 Extra Element')\n",
    "plt.show()"
   ]
  },
  {
   "cell_type": "code",
   "execution_count": null,
   "metadata": {},
   "outputs": [],
   "source": [
    "search_graph = sns.lineplot(data=pd_search_time)\n",
    "search_graph.set(ylim = [0, upper_ylim], title='Search', xlabel='Number of Words to search from', ylabel='Time taken')\n",
    "plt.show()"
   ]
  },
  {
   "cell_type": "code",
   "execution_count": null,
   "metadata": {},
   "outputs": [],
   "source": [
    "search_graph = sns.lineplot(data=pd_search_time_synthetic)\n",
    "search_graph.set(title='Time Elapsed VS Number of Words To Search From', xlabel='Number of Words to search from (Synthetic Data)', ylabel='Time Elapsed/s')\n",
    "plt.show()"
   ]
  },
  {
   "cell_type": "code",
   "execution_count": null,
   "metadata": {},
   "outputs": [],
   "source": [
    "# Recursive Binary Search Tree\n",
    "class Node:\n",
    "    def __init__(self, value):\n",
    "        self.value = value\n",
    "        self.left = None\n",
    "        self.right = None\n",
    "\n",
    "\n",
    "class RecursiveBinarySearchTreeSet(AbstractSet):\n",
    "    def __init__(self):\n",
    "        self.root = None\n",
    "\n",
    "    def searchElement(self, value):\n",
    "        return self._searchElement(self.root, value) == value\n",
    "\n",
    "    def _searchElement(self, node, value):\n",
    "        if node is None:\n",
    "            return None\n",
    "        elif value == node.value:\n",
    "            return node.value\n",
    "        elif value < node.value:\n",
    "            return self._searchElement(node.left, value)\n",
    "        else:\n",
    "            return self._searchElement(node.right, value)\n",
    "\n",
    "    def insertElement(self, value):\n",
    "        self.root, inserted = self._insertElement(self.root, value)\n",
    "        return inserted\n",
    "\n",
    "    def _insertElement(self, node, value, inserted=False):\n",
    "        if node is None:\n",
    "            inserted = True\n",
    "            return Node(value), inserted\n",
    "        elif value < node.value:\n",
    "            node.left, inserted = self._insertElement(node.left, value, inserted)\n",
    "        elif value > node.value:\n",
    "            node.right, inserted = self._insertElement(node.right, value, inserted)\n",
    "        elif value == node.value:\n",
    "            node.value = value\n",
    "        return node, inserted"
   ]
  },
  {
   "cell_type": "code",
   "execution_count": null,
   "metadata": {},
   "outputs": [],
   "source": [
    "# Runs data with repeats still in place\n",
    "import timeit\n",
    "import random\n",
    "import string\n",
    "\n",
    "def txt_to_list(file_path):\n",
    "    with open(file_path, 'r') as f:\n",
    "        content = f.read()\n",
    "        if file_path == \"test-search.txt\":\n",
    "            return content.split(\"\\n\")\n",
    "        else:\n",
    "            return content.split()\n",
    "\n",
    "def average_search_time(search_from_file, search_words_file, search_function, operation_repeats=50, search_intervals=5):\n",
    "    words_to_search_from = set(txt_to_list(search_from_file))\n",
    "#     words_to_search_from = [(''.join(random.choice(string.ascii_lowercase) for i in range(10))) for _ in range(100000)]\n",
    "    search_words = txt_to_list(search_words_file)\n",
    "\n",
    "    insert_time = {}\n",
    "    mean_search_time = {}\n",
    "    list_len = []\n",
    "    intervals = len(words_to_search_from)//search_intervals\n",
    "\n",
    "    for func_name, search_func in search_funcs.items():\n",
    "        print(func_name)\n",
    "        insert_time[func_name] = {}\n",
    "        mean_search_time[func_name] = {}\n",
    "#         for each function, slowly increase list size while timing insert and search times\n",
    "        for i, word in enumerate(words_to_search_from):\n",
    "            insert_time[func_name][i] = timeit.timeit(lambda: search_func.insertElement(word), number=operation_repeats)\n",
    "#             if len(search_func.set) % 1000 == 0:\n",
    "#                 print(len(search_func.set), timeit.timeit(lambda: search_func.insertElement(word), number=operation_repeats))\n",
    "            if i % intervals == 0:\n",
    "                search_time = [timeit.timeit(lambda: search_func.searchElement(word), number=operation_repeats) for word in search_words]\n",
    "                mean_search_time[func_name][i] = sum(search_time)/(operation_repeats*len(search_time))\n",
    "\n",
    "#         print(f\"Insert Time - {insert_time}\")\n",
    "        print(f\"Mean Search Time - {mean_search_time}\")\n",
    "    return insert_time, mean_search_time\n",
    "\n",
    "search_funcs = {\"BST\":BinarySearchTreeSet(), \"BSTRec\":RecursiveBinarySearchTreeSet()}\n",
    "# search_funcs = {\"LS\":SequentialSearchSet(), \"BST\":BinarySearchTreeSet(), \"LLRBT\":BalancedSearchTreeSet(), \"BF\":BloomFilterSet(BITARRAY_SIZE)}\n",
    "# search_funcs = {\"BST\":BinarySearchTreeSet()}\n",
    "insert_time, mean_search_time = average_search_time(\"test1-mobydick.txt\", \"test-search.txt\", search_funcs, 50, 100)"
   ]
  },
  {
   "cell_type": "code",
   "execution_count": null,
   "metadata": {},
   "outputs": [],
   "source": [
    "# No repeats\n",
    "import timeit\n",
    "import random\n",
    "import string\n",
    "\n",
    "def txt_to_list(file_path):\n",
    "    with open(file_path, 'r') as f:\n",
    "        content = f.read()\n",
    "        if file_path == \"test-search.txt\":\n",
    "            return content.split(\"\\n\")\n",
    "        else:\n",
    "            return content.split()\n",
    "\n",
    "def average_search_time(search_from_file, search_words_file, search_function, operation_repeats=50, search_intervals=5):\n",
    "    words_to_search_from = txt_to_list(search_from_file)\n",
    "#     words_to_search_from = [(''.join(random.choice(string.ascii_lowercase) for i in range(10))) for _ in range(100000)]\n",
    "    search_words = txt_to_list(search_words_file)\n",
    "    print(len(set(words_to_search_from)))\n",
    "\n",
    "    insert_time = {}\n",
    "    mean_search_time = {}\n",
    "    list_len = []\n",
    "    intervals = len(set(words_to_search_from))//search_intervals\n",
    "\n",
    "    for func_name, search_func in search_funcs.items():\n",
    "        already_inserted = []\n",
    "        print(func_name)\n",
    "        insert_time[func_name] = {}\n",
    "        mean_search_time[func_name] = {}\n",
    "#         for each function, slowly increase list size while timing insert and search times\n",
    "        for i, word in enumerate(words_to_search_from):\n",
    "            if word in already_inserted:\n",
    "                pass\n",
    "            else:\n",
    "                already_inserted.append(word)\n",
    "                insert_time[func_name][len(already_inserted)] = timeit.timeit(lambda: search_func.insertElement(word), number=operation_repeats)\n",
    "#             if len(search_func.set) % 1000 == 0:\n",
    "#                 print(len(search_func.set), timeit.timeit(lambda: search_func.insertElement(word), number=operation_repeats))\n",
    "            if len(already_inserted) % intervals == 0:\n",
    "                search_time = [timeit.timeit(lambda: search_func.searchElement(word), number=operation_repeats) for word in search_words]\n",
    "                mean_search_time[func_name][len(already_inserted)] = sum(search_time)/(operation_repeats*len(search_time))\n",
    "\n",
    "#         print(f\"Insert Time - {insert_time}\")\n",
    "        print(f\"Mean Search Time - {mean_search_time}\")\n",
    "    return insert_time, mean_search_time\n",
    "\n",
    "# search_funcs = {\"BST\":BinarySearchTreeSet(), \"LLRBT\":BalancedSearchTreeSet(), \"BF\":BloomFilterSet(BITARRAY_SIZE)}\n",
    "# search_funcs = {\"LS\":SequentialSearchSet(), \"BST\":BinarySearchTreeSet(), \"LLRBT\":BalancedSearchTreeSet(), \"BF\":BloomFilterSet(BITARRAY_SIZE, 11)}\n",
    "# search_funcs = {\"BST\":BinarySearchTreeSet()}\n",
    "search_funcs = {\"BST\":BinarySearchTreeSet(), \"BSTRec\":RecursiveBinarySearchTreeSet()}\n",
    "insert_time, mean_search_time = average_search_time(\"test1-mobydick.txt\", \"test-search.txt\", search_funcs, 50, 100)\n"
   ]
  },
  {
   "cell_type": "code",
   "execution_count": null,
   "metadata": {},
   "outputs": [],
   "source": [
    "\n",
    "def average_search_time_synthetic(search_words_file, operation_repeats=50, search_intervals=5):\n",
    "    words_to_search_from = TestDataGenerator().generateData(10000)\n",
    "    search_words = txt_to_list(search_words_file)\n",
    "\n",
    "    insert_time_synthetic = {}\n",
    "    mean_search_time_synthetic = {}\n",
    "    intervals = len(words_to_search_from)//search_intervals\n",
    "\n",
    "    for func_name, search_func in search_funcs_synthetic.items():\n",
    "        print(func_name)\n",
    "        insert_time_synthetic[func_name] = {}\n",
    "        mean_search_time_synthetic[func_name] = {}\n",
    "#         for each function, slowly increase list size while timing insert and search times\n",
    "        for i, word in enumerate(words_to_search_from):\n",
    "            insert_time_synthetic[func_name][i] = timeit.timeit(lambda: search_func.insertElement(word), number=operation_repeats)\n",
    "            if i % intervals == 0:\n",
    "                search_time = [timeit.timeit(lambda: search_func.searchElement(word), number=operation_repeats) for word in search_words]\n",
    "                mean_search_time_synthetic[func_name][i] = sum(search_time)/(operation_repeats*len(search_time))\n",
    "\n",
    "        print(f\"Insert Time - {insert_time_synthetic}\")\n",
    "        print(f\"Mean Search Time - {mean_search_time_synthetic}\")\n",
    "    return insert_time_synthetic, mean_search_time_synthetic\n",
    "\n",
    "# search_funcs_synthetic = {\"BST\":BinarySearchTreeSet(), \"LLRBT\":BalancedSearchTreeSet(), \"BF\":BloomFilterSet(BITARRAY_SIZE)}\n",
    "# search_funcs = {\"LS\":SequentialSearchSet(), \"BST\":BinarySearchTreeSet(), \"LLRBT\":BalancedSearchTreeSet(), \"BF\":BloomFilterSet(BITARRAY_SIZE)}\n",
    "# search_funcs = {\"BST\":BinarySearchTreeSet()}\n",
    "search_funcs_synthetic = {\"BST\":BinarySearchTreeSet(), \"BSTRec\":RecursiveBinarySearchTreeSet()}\n",
    "insert_time_synthetic, mean_search_time_synthetic = average_search_time_synthetic(\"test-search.txt\", 50, 100)\n"
   ]
  },
  {
   "cell_type": "code",
   "execution_count": null,
   "metadata": {},
   "outputs": [],
   "source": [
    "import pandas as pd\n",
    "import seaborn as sns\n",
    "import matplotlib.pyplot as plt\n",
    "import numpy as np"
   ]
  },
  {
   "cell_type": "code",
   "execution_count": null,
   "metadata": {},
   "outputs": [],
   "source": [
    "# Dictionary -> Pandas Dataframe\n",
    "pd_insert_time = pd.DataFrame.from_dict(insert_time)\n",
    "pd_search_time = pd.DataFrame.from_dict(mean_search_time)\n",
    "pd_insert_time_synthetic = pd.DataFrame.from_dict(insert_time_synthetic)\n",
    "pd_search_time_synthetic = pd.DataFrame.from_dict(mean_search_time_synthetic)"
   ]
  },
  {
   "cell_type": "code",
   "execution_count": null,
   "metadata": {},
   "outputs": [],
   "source": [
    "pd_insert_time_averaged = pd_insert_time.groupby(np.arange(len(pd_insert_time))//200).median()\n",
    "pd_insert_time_synthetic_averaged = pd_insert_time_synthetic.groupby(np.arange(len(pd_insert_time_synthetic))//100).median()"
   ]
  },
  {
   "cell_type": "code",
   "execution_count": null,
   "metadata": {},
   "outputs": [],
   "source": [
    "pd_insert_time_averaged"
   ]
  },
  {
   "cell_type": "code",
   "execution_count": null,
   "metadata": {},
   "outputs": [],
   "source": [
    "pd_insert_time_synthetic_averaged"
   ]
  },
  {
   "cell_type": "code",
   "execution_count": null,
   "metadata": {},
   "outputs": [],
   "source": [
    "algo = 'BST'\n",
    "algo2 = 'BSTRec'\n",
    "upper_ylim = 0.001\n",
    "insert_graph = sns.lineplot(data=pd_insert_time_averaged)\n",
    "insert_graph.set(title=f'Time Taken to Insert as Inserted words Increase ({algo}) ({algo2})', xlabel='Number of Elements Already Inputed', ylabel='Time Taken to Insert 1 Extra Element')\n",
    "plt.show()"
   ]
  },
  {
   "cell_type": "code",
   "execution_count": null,
   "metadata": {},
   "outputs": [],
   "source": [
    "algo = 'BST'\n",
    "upper_ylim = 0.0004\n",
    "insert_graph = sns.lineplot(data=pd_insert_time_synthetic_averaged)\n",
    "insert_graph.set(title=f'Time Taken to Insert as Inserted words Increase for Synthetic Data', xlabel='Number of Elements Already Inputed', ylabel='Time Increment After Single Element Insertion/s')\n",
    "x = {i for i in range (0, 100)}\n",
    "\n",
    "plt.show()"
   ]
  },
  {
   "cell_type": "code",
   "execution_count": null,
   "metadata": {},
   "outputs": [],
   "source": [
    "pd_search_time"
   ]
  },
  {
   "cell_type": "code",
   "execution_count": null,
   "metadata": {},
   "outputs": [],
   "source": [
    "pd_search_time_synthetic"
   ]
  },
  {
   "cell_type": "code",
   "execution_count": null,
   "metadata": {},
   "outputs": [],
   "source": [
    "search_graph = sns.lineplot(data=pd_search_time)\n",
    "search_graph.set(title='Search', xlabel='Number of Words to search from', ylabel='Time taken')\n",
    "plt.show()"
   ]
  },
  {
   "cell_type": "code",
   "execution_count": null,
   "metadata": {},
   "outputs": [],
   "source": [
    "search_graph = sns.lineplot(data=pd_search_time_synthetic)\n",
    "search_graph.set(title='Time Elapsed VS Number of Words To Search From', xlabel='Number of Words to search from (Synthetic Data)', ylabel='Time Elapsed/s')\n",
    "plt.show()"
   ]
  },
  {
   "cell_type": "code",
   "execution_count": null,
   "metadata": {},
   "outputs": [],
   "source": [
    "pd_insert_time.to_csv('BSTIterativeVsBSTRecursiveInsert3.csv')\n",
    "pd_search_time.to_csv('BSTIterativeVsBSTRecursiveSearch3.csv')"
   ]
  },
  {
   "cell_type": "code",
   "execution_count": null,
   "metadata": {},
   "outputs": [],
   "source": []
  }
 ],
 "metadata": {
  "kernelspec": {
   "display_name": "Python 3 (ipykernel)",
   "language": "python",
   "name": "python3"
  },
  "language_info": {
   "codemirror_mode": {
    "name": "ipython",
    "version": 3
   },
   "file_extension": ".py",
   "mimetype": "text/x-python",
   "name": "python",
   "nbconvert_exporter": "python",
   "pygments_lexer": "ipython3",
   "version": "3.10.3"
  }
 },
 "nbformat": 4,
 "nbformat_minor": 4
}
